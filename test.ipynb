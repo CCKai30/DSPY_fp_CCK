{
 "cells": [
  {
   "cell_type": "code",
   "execution_count": 1,
   "metadata": {},
   "outputs": [
    {
     "ename": "EOFError",
     "evalue": "",
     "output_type": "error",
     "traceback": [
      "\u001b[1;31m---------------------------------------------------------------------------\u001b[0m",
      "\u001b[1;31mEOFError\u001b[0m                                  Traceback (most recent call last)",
      "\u001b[1;32mc:\\Users\\apilab\\Desktop\\資料科學\\DSPY_sexual_classification\\test.ipynb 儲存格 1\u001b[0m line \u001b[0;36m1\n\u001b[0;32m      <a href='vscode-notebook-cell:/c%3A/Users/apilab/Desktop/%E8%B3%87%E6%96%99%E7%A7%91%E5%AD%B8/DSPY_sexual_classification/test.ipynb#W0sZmlsZQ%3D%3D?line=2'>3</a>\u001b[0m \u001b[39m# def getfile(path):\u001b[39;00m\n\u001b[0;32m      <a href='vscode-notebook-cell:/c%3A/Users/apilab/Desktop/%E8%B3%87%E6%96%99%E7%A7%91%E5%AD%B8/DSPY_sexual_classification/test.ipynb#W0sZmlsZQ%3D%3D?line=3'>4</a>\u001b[0m \u001b[39m#     ftp.cwd(path)\u001b[39;00m\n\u001b[0;32m      <a href='vscode-notebook-cell:/c%3A/Users/apilab/Desktop/%E8%B3%87%E6%96%99%E7%A7%91%E5%AD%B8/DSPY_sexual_classification/test.ipynb#W0sZmlsZQ%3D%3D?line=4'>5</a>\u001b[0m \u001b[39m#     filelist = []\u001b[39;00m\n\u001b[1;32m   (...)\u001b[0m\n\u001b[0;32m     <a href='vscode-notebook-cell:/c%3A/Users/apilab/Desktop/%E8%B3%87%E6%96%99%E7%A7%91%E5%AD%B8/DSPY_sexual_classification/test.ipynb#W0sZmlsZQ%3D%3D?line=12'>13</a>\u001b[0m \u001b[39m#         else:\u001b[39;00m\n\u001b[0;32m     <a href='vscode-notebook-cell:/c%3A/Users/apilab/Desktop/%E8%B3%87%E6%96%99%E7%A7%91%E5%AD%B8/DSPY_sexual_classification/test.ipynb#W0sZmlsZQ%3D%3D?line=13'>14</a>\u001b[0m \u001b[39m#             print('---------' + ftp.pwd() + '/' + f[49:])\u001b[39;00m\n\u001b[0;32m     <a href='vscode-notebook-cell:/c%3A/Users/apilab/Desktop/%E8%B3%87%E6%96%99%E7%A7%91%E5%AD%B8/DSPY_sexual_classification/test.ipynb#W0sZmlsZQ%3D%3D?line=15'>16</a>\u001b[0m ftp \u001b[39m=\u001b[39m ftplib\u001b[39m.\u001b[39mFTP()\n\u001b[1;32m---> <a href='vscode-notebook-cell:/c%3A/Users/apilab/Desktop/%E8%B3%87%E6%96%99%E7%A7%91%E5%AD%B8/DSPY_sexual_classification/test.ipynb#W0sZmlsZQ%3D%3D?line=16'>17</a>\u001b[0m ftp\u001b[39m.\u001b[39;49mconnect(\u001b[39m'\u001b[39;49m\u001b[39m140.112.43.68\u001b[39;49m\u001b[39m'\u001b[39;49m, \u001b[39m22\u001b[39;49m)\n\u001b[0;32m     <a href='vscode-notebook-cell:/c%3A/Users/apilab/Desktop/%E8%B3%87%E6%96%99%E7%A7%91%E5%AD%B8/DSPY_sexual_classification/test.ipynb#W0sZmlsZQ%3D%3D?line=17'>18</a>\u001b[0m ftp\u001b[39m.\u001b[39mlogin(\u001b[39m'\u001b[39m\u001b[39mr11522659\u001b[39m\u001b[39m'\u001b[39m,\u001b[39m'\u001b[39m\u001b[39mchris1230\u001b[39m\u001b[39m'\u001b[39m)\n\u001b[0;32m     <a href='vscode-notebook-cell:/c%3A/Users/apilab/Desktop/%E8%B3%87%E6%96%99%E7%A7%91%E5%AD%B8/DSPY_sexual_classification/test.ipynb#W0sZmlsZQ%3D%3D?line=19'>20</a>\u001b[0m filenames \u001b[39m=\u001b[39m ftp\u001b[39m.\u001b[39mnlst() \u001b[39m# get filenames within the directory\u001b[39;00m\n",
      "File \u001b[1;32mc:\\Users\\apilab\\anaconda3\\envs\\DSPY\\lib\\ftplib.py:162\u001b[0m, in \u001b[0;36mFTP.connect\u001b[1;34m(self, host, port, timeout, source_address)\u001b[0m\n\u001b[0;32m    160\u001b[0m \u001b[39mself\u001b[39m\u001b[39m.\u001b[39maf \u001b[39m=\u001b[39m \u001b[39mself\u001b[39m\u001b[39m.\u001b[39msock\u001b[39m.\u001b[39mfamily\n\u001b[0;32m    161\u001b[0m \u001b[39mself\u001b[39m\u001b[39m.\u001b[39mfile \u001b[39m=\u001b[39m \u001b[39mself\u001b[39m\u001b[39m.\u001b[39msock\u001b[39m.\u001b[39mmakefile(\u001b[39m'\u001b[39m\u001b[39mr\u001b[39m\u001b[39m'\u001b[39m, encoding\u001b[39m=\u001b[39m\u001b[39mself\u001b[39m\u001b[39m.\u001b[39mencoding)\n\u001b[1;32m--> 162\u001b[0m \u001b[39mself\u001b[39m\u001b[39m.\u001b[39mwelcome \u001b[39m=\u001b[39m \u001b[39mself\u001b[39;49m\u001b[39m.\u001b[39;49mgetresp()\n\u001b[0;32m    163\u001b[0m \u001b[39mreturn\u001b[39;00m \u001b[39mself\u001b[39m\u001b[39m.\u001b[39mwelcome\n",
      "File \u001b[1;32mc:\\Users\\apilab\\anaconda3\\envs\\DSPY\\lib\\ftplib.py:244\u001b[0m, in \u001b[0;36mFTP.getresp\u001b[1;34m(self)\u001b[0m\n\u001b[0;32m    243\u001b[0m \u001b[39mdef\u001b[39;00m \u001b[39mgetresp\u001b[39m(\u001b[39mself\u001b[39m):\n\u001b[1;32m--> 244\u001b[0m     resp \u001b[39m=\u001b[39m \u001b[39mself\u001b[39;49m\u001b[39m.\u001b[39;49mgetmultiline()\n\u001b[0;32m    245\u001b[0m     \u001b[39mif\u001b[39;00m \u001b[39mself\u001b[39m\u001b[39m.\u001b[39mdebugging:\n\u001b[0;32m    246\u001b[0m         \u001b[39mprint\u001b[39m(\u001b[39m'\u001b[39m\u001b[39m*resp*\u001b[39m\u001b[39m'\u001b[39m, \u001b[39mself\u001b[39m\u001b[39m.\u001b[39msanitize(resp))\n",
      "File \u001b[1;32mc:\\Users\\apilab\\anaconda3\\envs\\DSPY\\lib\\ftplib.py:234\u001b[0m, in \u001b[0;36mFTP.getmultiline\u001b[1;34m(self)\u001b[0m\n\u001b[0;32m    232\u001b[0m code \u001b[39m=\u001b[39m line[:\u001b[39m3\u001b[39m]\n\u001b[0;32m    233\u001b[0m \u001b[39mwhile\u001b[39;00m \u001b[39m1\u001b[39m:\n\u001b[1;32m--> 234\u001b[0m     nextline \u001b[39m=\u001b[39m \u001b[39mself\u001b[39;49m\u001b[39m.\u001b[39;49mgetline()\n\u001b[0;32m    235\u001b[0m     line \u001b[39m=\u001b[39m line \u001b[39m+\u001b[39m (\u001b[39m'\u001b[39m\u001b[39m\\n\u001b[39;00m\u001b[39m'\u001b[39m \u001b[39m+\u001b[39m nextline)\n\u001b[0;32m    236\u001b[0m     \u001b[39mif\u001b[39;00m nextline[:\u001b[39m3\u001b[39m] \u001b[39m==\u001b[39m code \u001b[39mand\u001b[39;00m \\\n\u001b[0;32m    237\u001b[0m             nextline[\u001b[39m3\u001b[39m:\u001b[39m4\u001b[39m] \u001b[39m!=\u001b[39m \u001b[39m'\u001b[39m\u001b[39m-\u001b[39m\u001b[39m'\u001b[39m:\n",
      "File \u001b[1;32mc:\\Users\\apilab\\anaconda3\\envs\\DSPY\\lib\\ftplib.py:218\u001b[0m, in \u001b[0;36mFTP.getline\u001b[1;34m(self)\u001b[0m\n\u001b[0;32m    216\u001b[0m     \u001b[39mprint\u001b[39m(\u001b[39m'\u001b[39m\u001b[39m*get*\u001b[39m\u001b[39m'\u001b[39m, \u001b[39mself\u001b[39m\u001b[39m.\u001b[39msanitize(line))\n\u001b[0;32m    217\u001b[0m \u001b[39mif\u001b[39;00m \u001b[39mnot\u001b[39;00m line:\n\u001b[1;32m--> 218\u001b[0m     \u001b[39mraise\u001b[39;00m \u001b[39mEOFError\u001b[39;00m\n\u001b[0;32m    219\u001b[0m \u001b[39mif\u001b[39;00m line[\u001b[39m-\u001b[39m\u001b[39m2\u001b[39m:] \u001b[39m==\u001b[39m CRLF:\n\u001b[0;32m    220\u001b[0m     line \u001b[39m=\u001b[39m line[:\u001b[39m-\u001b[39m\u001b[39m2\u001b[39m]\n",
      "\u001b[1;31mEOFError\u001b[0m: "
     ]
    }
   ],
   "source": [
    "import ftplib\n",
    " \n",
    "# def getfile(path):\n",
    "#     ftp.cwd(path)\n",
    "#     filelist = []\n",
    "#     # 读取目录下的文件列表\n",
    "#     ftp.retrlines('LIST', filelist.append)\n",
    "#     for f in filelist:\n",
    "#         if f.startswith('d'):\n",
    "#             path_a = ftp.pwd() + '/' + f[49:] + '/'\n",
    "#             getfile(path_a)\n",
    "#             ftp.cwd('..')\n",
    "#         else:\n",
    "#             print('---------' + ftp.pwd() + '/' + f[49:])\n",
    " \n",
    "ftp = ftplib.FTP()\n",
    "ftp.connect('140.112.43.68', 22)\n",
    "ftp.login('r11522659','chris1230')\n",
    "\n",
    "filenames = ftp.nlst() # get filenames within the directory\n",
    "print(filenames)\n",
    "  "
   ]
  },
  {
   "cell_type": "code",
   "execution_count": null,
   "metadata": {},
   "outputs": [],
   "source": []
  }
 ],
 "metadata": {
  "kernelspec": {
   "display_name": "DSPY",
   "language": "python",
   "name": "python3"
  },
  "language_info": {
   "codemirror_mode": {
    "name": "ipython",
    "version": 3
   },
   "file_extension": ".py",
   "mimetype": "text/x-python",
   "name": "python",
   "nbconvert_exporter": "python",
   "pygments_lexer": "ipython3",
   "version": "3.10.11"
  }
 },
 "nbformat": 4,
 "nbformat_minor": 2
}
